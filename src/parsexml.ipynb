{
 "cells": [
  {
   "cell_type": "code",
   "execution_count": 18,
   "metadata": {},
   "outputs": [],
   "source": [
    "from urllib.parse import urlencode\n",
    "from lxml import etree\n",
    "\n",
    "tree = etree.parse(\"MIDAS_Export_26102018.xml\")"
   ]
  },
  {
   "cell_type": "code",
   "execution_count": 34,
   "metadata": {},
   "outputs": [
    {
     "name": "stdout",
     "output_type": "stream",
     "text": [
      "{'title': \"L'heure h\", 'country': 'SZ', 'year': 1936, 'type': 'Dokumentar', 'length': 21, 'crew': 'Jacques Boolski', 'text_de': 'Geschichte über die Entstehung eines Films im Hinblick auf den nationalen Wettbewerb. Auswahl des Drehbuchs nach zwei, drei verworfenen Ideen. Die Kamera wird dem Kameramann übergeben. Vorbereitung der Arbeitsfläche. \\n', 'text_en': 'Story of the creation of a film for the national competition of amateur filmmakers. Selection of the film script after two, three rejected ideas. The camera will be given to the cameraman.', 'id': 160943, 'copy_id': 160945}\n",
      "{'title': 'Technik siegt über die Natur', 'country': 'SZ', 'year': 1939, 'type': 'Dokumentar', 'length': 33, 'crew': 'Edwin Abderhalden', 'text_de': 'Dokumentarfilm über den Bau der Säntis-Schwebebahn (1933-1935), der zweiten Bahn dieser Art in der Schweiz (die erste Schwebebahn Engelberg-Trübsee wurde am 23.12.27 eingeweiht). Der Film zeigt in vielen interessanten Details die verschiedenen Bauetappen:\\n\\n- \"Ein echter Bergler \"Niklaus Zwingli von Enetbühl\" zieht die erste Seilverbindung zwischen Säntis und Schwägalp.\"\\n\\n- Sprengarbeiten auf dem Säntis.\\n\\n- Ausheben der Spanngewichtsgrube und Bauarbeiten zur Talstation (Schwägalp).\\n\\n- Der Transport der 4 je 35 Tonnen schweren Tragseile von Herisau nach der Schwägalp beanspruchte 40 Wochen mühevoller Arbeit.\\n\\n- Montagearbeiten an den Stütztürmen.\\n\\n- Die 4 je 3200 Meter langen Tragseile werden zur Bergstation hochgezogen, das wieder 40 Wochen mühevoller Arbeit erforderte.\\n\\n- Fertigstellung, erste Fahrten, Tourismuserfolg und zum Schluss der Gipfel und das Panorama.', 'text_en': 'Documentary about the Säntis cable railway and the different phases of its construction and completion.', 'id': 160946, 'copy_id': 160948}\n",
      "{'title': '65 Jahre', 'country': 'SZ', 'year': 1992, 'type': 'Dokumentar', 'length': '', 'crew': 'Stefan Jäger', 'text_de': 'Wer weiss schon, wie sich ein Grossvater fühlt, der gelernt hat, für seine Existenz zu kämpfen?  Oder etwa eine Grossmutter, die sich dem ihr vorgeschriebenen Weg unterwirft? Was fühlen und denken sie, wenn ihr Enkel  drogenabhängig ist? ', 'text_en': 'Who knows what a grandfather who has learnt to fight for his existence feels? Or a grandmother who subjugates to her destiny? What do they feel and think when their grandson becomes a drug addict?\\n', 'id': 160979, 'copy_id': 160981}\n",
      "{'title': 'City Spot Rom', 'country': 'SZ', 'year': '', 'type': 'Trickfilm', 'length': 1, 'crew': 'Werner Emmisberger', 'text_de': 'Vertikale und horizontale Linien fügen sich zur Ansicht Treppenaufgang mit Hausfassaden zusammen, werden coloriert. Schriftzug Roma erscheint links in unterer Bildhälfte. Pferdekutsche fährt von rechts nach links.', 'text_en': 'Vertical and horizontal lines join together to the view staircase with house fronts, get colored. Roma logo appears in the lower left side of the picture. Horse coach moves from right to left.', 'id': 161247, 'copy_id': 161249}\n",
      "{'title': 'Mit dem Tierpsychologen im Zoo', 'country': 'SZ', 'year': 1951, 'type': 'Dokumentar', 'length': 16, 'crew': '', 'text_de': 'Texttafeln im Film:\\n\\n1. Vorurteile\\n-Der Wolf ist nicht \"böse\"\\n-Das Kamel ist nicht \"hochnäsig\"\\n-Der Marabu ist kein \"Philosoph\"\\n-Der Esel ist nicht \"dumm\"\\n-Der Pfau ist nicht \"stolz\"\\n-Die Pythonschlange ist nicht \"angriffslustig\" oder \"heimtückisch\", weil sie züngelt\\n\\n2. Das Tier in seinem Lebensraum\\n-Der Lebensraum des Faultiers ist in den Bäumen...\\n-...der des Sekretärs, eines Raubvogels, auf dem Boden...\\n-...und jener des Kormorans im Wasser\\n\\n3. Gesetzmässigkeiten\\n-Die Riesenschildkröte kennt keine Hast\\n-Der Schuhschnabel, ein Riesenstorch, steht nie auf einem Bein\\n-Das Füllen des Shetland-Ponys kann nur in bestimmter Stellung trinken\\n-Der Nilgau-Antilope kaut jeden Bissen rund 60 mal durch\\n\\n4. Das Territorium, seine Markierung, Einrichtung und Verteidigung\\n-Der Braunbär markiert seinen Baum mit Hilfe von Urin\\n-Der Zwergflusspferd-Bulle bespritzt Futter und Wohnraum mit Urin und Kot\\n-Schlaf-Wälz-und Scheuerstellen des Zebras\\n-Badestellen des Capybaras oder Wasserschweins\\n-Wechsel beim Stummelohrschaf...\\n-...und beim Aguti oder Goldhasen\\n-Verteidigung des Brut-Territoriums durch Paradieskraniche\\n-...und durch die Silbermöve\\n\\n5. Der Zoo als Heim von Tieren aus aller Welt\\n-Vogelwiese\\n-Steinböcke\\n-Brillen-Pinguine\\n-Okapi\\n-Seelöwen\\n\\nIn Zusammenarbeit mit Prof. Dr. Hediger, Direktor des zoologischen Gartens Basel', 'text_en': 'Detailed presentation of the behaviour of a lot of animals in a zoo.', 'id': 161292, 'copy_id': 161294}\n"
     ]
    }
   ],
   "source": [
    "for es in tree.findall('ExportFilms/Film')[0:5]:\n",
    "    obj = {\n",
    "        'title':   './Titles/Title',\n",
    "        'country': './CountryOfOrigin',\n",
    "        'year':    './YearOfProduction',\n",
    "        'type':    './FilmType',\n",
    "        'length':  './OriginalLength',\n",
    "        'crew':    './CrewCast/Person/Name',\n",
    "        'text_de': './ContentDescription/Content/[@Language=\"default\"]',\n",
    "        'text_en': './ContentDescription/Content/[@Language=\"Englisch\"]',\n",
    "    }\n",
    "    for k in obj:\n",
    "        n = es.find(obj[k])\n",
    "        if n is None: \n",
    "            obj[k] = \"\" \n",
    "        else:\n",
    "            obj[k] = n.text\n",
    "            if obj[k].isdigit(): obj[k] = int(obj[k])\n",
    "    \n",
    "    obj['id'] = int(es.get('ContentID'))\n",
    "    \n",
    "    copies = es.find('./Copies/Film')\n",
    "    obj['copy_id'] = 0\n",
    "    if copies is not None: obj['copy_id'] = int(copies.get('CopyID'))\n",
    "    \n",
    "    print(obj)"
   ]
  }
 ],
 "metadata": {
  "kernelspec": {
   "display_name": "Python 3",
   "language": "python",
   "name": "python3"
  },
  "language_info": {
   "codemirror_mode": {
    "name": "ipython",
    "version": 3
   },
   "file_extension": ".py",
   "mimetype": "text/x-python",
   "name": "python",
   "nbconvert_exporter": "python",
   "pygments_lexer": "ipython3",
   "version": "3.6.6"
  }
 },
 "nbformat": 4,
 "nbformat_minor": 2
}
